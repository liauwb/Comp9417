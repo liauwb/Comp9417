{
 "cells": [
  {
   "cell_type": "markdown",
   "metadata": {},
   "source": [
    "COMP9418 Assignment 1\n",
    "Bryan Liauw"
   ]
  },
  {
   "cell_type": "markdown",
   "metadata": {},
   "source": [
    "Task 1 codes"
   ]
  },
  {
   "cell_type": "code",
   "execution_count": null,
   "metadata": {},
   "outputs": [],
   "source": [
    "from random import randint\n",
    "from random import randrange\n",
    "import matplotlib.pyplot as plt"
   ]
  },
  {
   "cell_type": "code",
   "execution_count": null,
   "metadata": {},
   "outputs": [],
   "source": [
    "class Node:\n",
    "    def __init__(self,name):\n",
    "        self.name = name\n",
    "        self.in_node = []\n",
    "        self.out_node = []\n",
    "        self.neighbour = []"
   ]
  },
  {
   "cell_type": "markdown",
   "metadata": {},
   "source": [
    "This is the class for Nodes. neighbour is basically for in and out node specifically for the path finding part of the algorithm."
   ]
  },
  {
   "cell_type": "code",
   "execution_count": null,
   "metadata": {},
   "outputs": [],
   "source": [
    "def add_edge(node1,node2):\n",
    "    node1.out_node.append(node2)\n",
    "    node2.in_node.append(node1)\n",
    "    node1.neighbour.append(node2)\n",
    "    node2.neighbour.append(node1)\n",
    "    return\n",
    "def remove_edge(node1,node2):\n",
    "    node1.out_node.remove(node2)\n",
    "    node2.in_node.remove(node1)\n",
    "    node1.neighbour.remove(node2)\n",
    "    node2.neighbour.remove(node1)\n",
    "    return\n",
    "def remove_node(node):\n",
    "    for i in node.in_node:\n",
    "        i.out_node.remove(node)\n",
    "    for i in node.out_node:\n",
    "        i.in_node.remove(node)\n",
    "    for i in node.neighbour:\n",
    "        i.node.neighbour.remove(node)\n",
    "    return"
   ]
  },
  {
   "cell_type": "markdown",
   "metadata": {},
   "source": [
    "Several helper functions to remove and add edges and nodes."
   ]
  },
  {
   "cell_type": "code",
   "execution_count": null,
   "metadata": {},
   "outputs": [],
   "source": [
    "def random_dag(nodes, edges):\n",
    "    G = {}\n",
    "    for i in range(nodes):\n",
    "        G[chr(97+i)] = Node(chr(97+i))\n",
    "    while edges > 0:\n",
    "        a = chr(97+randint(0,nodes-1))\n",
    "        b=a\n",
    "        while b==a:\n",
    "            b = chr(97+randint(0,nodes-1))\n",
    "        add_edge(G[a],G[b])\n",
    "        edges -=1\n",
    "    return G"
   ]
  },
  {
   "cell_type": "markdown",
   "metadata": {},
   "source": [
    "Generate a random DAG with nodes and edges"
   ]
  },
  {
   "cell_type": "code",
   "execution_count": null,
   "metadata": {},
   "outputs": [],
   "source": [
    "def find_path(x,y,G):\n",
    "    visited = []\n",
    "    stack = [x]\n",
    "    while stack:\n",
    "        node = stack.pop()\n",
    "        if node not in visited:\n",
    "            if node== y:\n",
    "                return True\n",
    "            visited.append(node)\n",
    "            for i in G[node].neighbour:\n",
    "                stack.append(i.name)\n",
    "    return False"
   ]
  },
  {
   "cell_type": "markdown",
   "metadata": {},
   "source": [
    "Function to find path in a graph"
   ]
  },
  {
   "cell_type": "code",
   "execution_count": null,
   "metadata": {},
   "outputs": [],
   "source": [
    "def d_separation(G,X,Y,Z):\n",
    "    leafs = [g for g in G if len(G[g].out_node)==0 and len(G[g].in_node)>=1]\n",
    "    print(leafs)\n",
    "\n",
    "    for x in X:\n",
    "        if x in leafs:\n",
    "            leafs.remove(x)\n",
    "    for y in Y:\n",
    "        if y in leafs:\n",
    "            leafs.remove(y)\n",
    "    for z in Z:\n",
    "        if z in leafs:\n",
    "            leafs.remove(z)\n",
    "    for i in leafs:\n",
    "        remove_node(G[i])\n",
    "    for z in Z:\n",
    "        temp = G[z].out_node\n",
    "        for i in temp:\n",
    "            remove_edge(G[z],i)\n",
    "    for x in X:\n",
    "        for y in Y:\n",
    "            if find_path(x,y,G):\n",
    "                return False\n",
    "    return True"
   ]
  },
  {
   "cell_type": "markdown",
   "metadata": {},
   "source": [
    "The main part of the algorithm: removal of edges and leaf nodes before finding a path"
   ]
  },
  {
   "cell_type": "markdown",
   "metadata": {},
   "source": [
    "Task 2: Estimate Bayesian Network parameters from data"
   ]
  },
  {
   "cell_type": "code",
   "execution_count": null,
   "metadata": {},
   "outputs": [],
   "source": [
    "import networkx as nx\n",
    "from random import randint\n",
    "from random import randrange\n",
    "import matplotlib.pyplot as plt\n",
    "import csv\n",
    "import pandas as pd\n",
    "from collections import Counter"
   ]
  },
  {
   "cell_type": "code",
   "execution_count": null,
   "metadata": {},
   "outputs": [],
   "source": [
    "def create_dag():\n",
    "    G = nx.DiGraph()\n",
    "    G.add_node('Age')\n",
    "    G.add_node('Location')\n",
    "    G.add_node('BreastDensity')\n",
    "    G.add_node('Size')\n",
    "    G.add_node('LymphNodes')\n",
    "    G.add_node('Metastasis')\n",
    "    G.add_node('BC')\n",
    "    G.add_node('Mass')\n",
    "    G.add_node('Shape')\n",
    "    G.add_node('MC')\n",
    "    G.add_node('AD')\n",
    "    G.add_node('Margin')\n",
    "    G.add_node('SkinRetract')\n",
    "    G.add_node('FibrTissueDev')\n",
    "    G.add_node('NippleDischarge')\n",
    "    G.add_node('Spiculation')\n",
    "\n",
    "    G.add_edge('Age','BC')\n",
    "    G.add_edge('Location','BC')\n",
    "    G.add_edge('BreastDensity','Mass')\n",
    "    G.add_edge('BC','Mass')\n",
    "    G.add_edge('BC','Metastasis')\n",
    "    G.add_edge('BC','MC')\n",
    "    G.add_edge('BC','SkinRetract')\n",
    "    G.add_edge('BC','NippleDischarge')\n",
    "    G.add_edge('BC','AD')\n",
    "    G.add_edge('Mass','Size')\n",
    "    G.add_edge('Mass','Shape')\n",
    "    G.add_edge('Mass','Margin')\n",
    "    G.add_edge('AD','FibrTissueDev')\n",
    "    G.add_edge('FibrTissueDev','SkinRetract')\n",
    "    G.add_edge('FibrTissueDev','Spiculation')\n",
    "    G.add_edge('FibrTissueDev','NippleDischarge')\n",
    "    G.add_edge('Spiculation','Margin')\n",
    "    G.add_edge('Metastasis','LymphNodes')\n",
    "\n",
    "    return G"
   ]
  },
  {
   "cell_type": "markdown",
   "metadata": {},
   "source": [
    "I could've used a dictionary or something but I originally intended to use the networkx package. It seems that it is unnecessary to remove it since it doesn't interfere with much anyways."
   ]
  },
  {
   "cell_type": "code",
   "execution_count": null,
   "metadata": {},
   "outputs": [],
   "source": [
    "def d_separation(G,file):\n",
    "    #print(nx.adjacency_matrix(G).todense())\n",
    "    data = pd.read_csv(file)\n",
    "    probTable = {}\n",
    "    outcomeSpace = {}\n",
    "    #print(data)\n",
    "    for i in G.nodes:\n",
    "        if i != 'None':\n",
    "            probTable[i] = Counter(list(data[i]))\n",
    "            probTable[i] = dict(probTable[i])\n",
    "            for j in probTable[i]:\n",
    "                probTable[i][j] = float(probTable[i][j])/20000\n",
    "            outcomeSpace[i] = tuple(probTable[i].keys())\n",
    "    print(probTable)\n",
    "    print(outcomeSpace)\n",
    "    #nx.draw(G,with_labels= True)\n",
    "    #plt.show()"
   ]
  },
  {
   "cell_type": "markdown",
   "metadata": {},
   "source": [
    "Generate a probability table and outcome space."
   ]
  },
  {
   "cell_type": "markdown",
   "metadata": {},
   "source": [
    "Task 3 codes"
   ]
  },
  {
   "cell_type": "code",
   "execution_count": null,
   "metadata": {},
   "outputs": [],
   "source": [
    "from random import randint\n",
    "from random import randrange\n",
    "from random import random\n",
    "import csv\n",
    "import copy\n",
    "import pandas as pd\n",
    "from collections import Counter\n",
    "class Node:\n",
    "    def __init__(self,name):\n",
    "        self.name = name\n",
    "        self.in_node = []\n",
    "        self.out_node = []\n",
    "        self.neighbour = []\n",
    "        self.prob = {}\n",
    "    def given(self):\n",
    "        in_node_names = [i.name for i in self.in_node]\n",
    "        return in_node_names\n",
    "    def outnodes(self):\n",
    "        in_node_names = [i.name for i in self.out_node]\n",
    "        return in_node_names\n",
    "def add_edge(node1,node2):\n",
    "    node1.out_node.append(node2)\n",
    "    node2.in_node.append(node1)\n",
    "    node1.neighbour.append(node2)\n",
    "    node2.neighbour.append(node1)\n",
    "\n",
    "def remove_edge(node1,node2):\n",
    "    node1.out_node.remove(node2)\n",
    "    node2.in_node.remove(node1)\n",
    "    node1.neighbour.remove(node2)\n",
    "    node2.neighbour.remove(node1)\n",
    "\n",
    "def remove_node(node):\n",
    "    for i in node.in_node:\n",
    "        i.out_node.remove(node)\n",
    "    for i in node.out_node:\n",
    "        i.in_node.remove(node)\n",
    "    return\n"
   ]
  },
  {
   "cell_type": "markdown",
   "metadata": {},
   "source": [
    "Modified nodes class from task 1 codes but generally reusing the same code"
   ]
  },
  {
   "cell_type": "code",
   "execution_count": null,
   "metadata": {},
   "outputs": [],
   "source": [
    "def generate_dag():\n",
    "    G = {}\n",
    "    G['Age'] = Node('Age')\n",
    "    G['Location'] = Node('Location')\n",
    "    G['BreastDensity']= Node('BreastDensity')\n",
    "    G['Size'] = Node('Size')\n",
    "    G['LymphNodes'] = Node('LymphNodes')\n",
    "    G['Metastasis']= Node('Metastasis')\n",
    "    G['BC'] = Node('BC')\n",
    "    G['Mass'] = Node('Mass')\n",
    "    G['Shape'] = Node('Shape')\n",
    "    G['MC'] = Node('MC')\n",
    "    G['AD'] = Node('AD')\n",
    "    G['Margin'] = Node('Margin')\n",
    "    G['SkinRetract'] = Node('SkinRetract')\n",
    "    G['FibrTissueDev'] = Node('FibrTissueDev')\n",
    "    G['NippleDischarge']= Node('NippleDischarge')\n",
    "    G['Spiculation']= Node('Spiculation')\n",
    "\n",
    "    add_edge(G['Age'],G['BC'])\n",
    "    add_edge(G['Location'],G['BC'])\n",
    "    add_edge(G['BreastDensity'],G['Mass'])\n",
    "    add_edge(G['BC'],G['Mass'])\n",
    "    add_edge(G['BC'],G['Metastasis'])\n",
    "    add_edge(G['BC'],G['MC'])\n",
    "    add_edge(G['BC'],G['SkinRetract'])\n",
    "    add_edge(G['BC'],G['NippleDischarge'])\n",
    "    add_edge(G['BC'],G['AD'])\n",
    "    add_edge(G['Mass'],G['Size'])\n",
    "    add_edge(G['Mass'],G['Shape'])\n",
    "    add_edge(G['Mass'],G['Margin'])\n",
    "    add_edge(G['AD'],G['FibrTissueDev'])\n",
    "    add_edge(G['FibrTissueDev'],G['SkinRetract'])\n",
    "    add_edge(G['FibrTissueDev'],G['Spiculation'])\n",
    "    add_edge(G['FibrTissueDev'],G['NippleDischarge'])\n",
    "    add_edge(G['Spiculation'],G['Margin'])\n",
    "    add_edge(G['Metastasis'],G['LymphNodes'])\n",
    "    return G"
   ]
  },
  {
   "cell_type": "markdown",
   "metadata": {},
   "source": [
    "Generate DAG based on the graph given"
   ]
  },
  {
   "cell_type": "code",
   "execution_count": null,
   "metadata": {},
   "outputs": [],
   "source": [
    "def topological_sort(G,root):\n",
    "    visited = []\n",
    "    stack = list(root)\n",
    "    while stack:\n",
    "        node = stack.pop()\n",
    "        visited.append(node)\n",
    "        while G[node].out_node:\n",
    "            tempnode = G[node].out_node[0]\n",
    "            remove_edge(G[node],tempnode)\n",
    "            if len(tempnode.in_node) == 0:\n",
    "                stack.append(tempnode.name)\n",
    "    return visited"
   ]
  },
  {
   "cell_type": "markdown",
   "metadata": {},
   "source": [
    "Topological sort for getting the orders of traversal"
   ]
  },
  {
   "cell_type": "code",
   "execution_count": null,
   "metadata": {},
   "outputs": [],
   "source": [
    "def sampling(G,file):\n",
    "    data = pd.read_csv(file)\n",
    "    roots = [g for g in G if len(G[g].out_node)>0 and len(G[g].in_node)==0]\n",
    "    order = topological_sort(copy.deepcopy(G),roots)\n",
    "\n",
    "    for i in range(data.shape[0]):\n",
    "        for j in data:\n",
    "            if len(G[j].in_node) == 0:\n",
    "                if data[j][i] not in G[j].prob:\n",
    "                    G[j].prob[data[j][i]]=0\n",
    "                G[j].prob[data[j][i]]+=1\n",
    "            else:\n",
    "                tempkey = []\n",
    "                for k in G[j].given():\n",
    "                    tempkey.append(data[k][i]) \n",
    "                if \",\".join(tempkey) not in G[j].prob:\n",
    "                    G[j].prob[\",\".join(tempkey)] = {}\n",
    "                if data[j][i] not in G[j].prob[\",\".join(tempkey)]:\n",
    "                    G[j].prob[\",\".join(tempkey)][data[j][i]]=0\n",
    "                G[j].prob[\",\".join(tempkey)][data[j][i]]+=1\n",
    "    for i in G:\n",
    "        if i in roots:\n",
    "            temp = sum(G[i].prob.values())\n",
    "            for j in G[i].prob:\n",
    "                G[i].prob[j] = float(G[i].prob[j])/temp\n",
    "        else:\n",
    "            for j in G[i].prob:\n",
    "                temp = sum(G[i].prob[j].values())\n",
    "                for k in G[i].prob[j]:\n",
    "                    G[i].prob[j][k] = float(G[i].prob[j][k])/temp\n",
    "\n",
    "    sampledata =[]\n",
    "\n",
    "    for i in range(1000):\n",
    "        tempdata = {}\n",
    "        for j in order:\n",
    "            temp = random()\n",
    "            if j in roots:\n",
    "                for k in G[j].prob:\n",
    "                    temp -= G[j].prob[k]\n",
    "                    if temp <=0.:\n",
    "                        tempdata[j] = k\n",
    "                        break\n",
    "            else:\n",
    "                tempgiven = []\n",
    "                for g in G[j].given():\n",
    "                    tempgiven.append(tempdata[g])\n",
    "                for k in G[j].prob[\",\".join(tempgiven)]:\n",
    "                    temp -= G[j].prob[\",\".join(tempgiven)][k]\n",
    "                    if temp <=0.:\n",
    "                        tempdata[j] = k\n",
    "                        break\n",
    "        sampledata.append(tempdata)\n",
    "\n",
    "    return sampledata"
   ]
  },
  {
   "cell_type": "markdown",
   "metadata": {},
   "source": [
    "Get the CSV file then generate the probability model stored in individual nodes. Using these probabilities, create sample data by subtracting from the random generated number"
   ]
  },
  {
   "cell_type": "markdown",
   "metadata": {},
   "source": [
    "Task 4 codes"
   ]
  },
  {
   "cell_type": "code",
   "execution_count": 2,
   "metadata": {},
   "outputs": [],
   "source": [
    "from random import randint\n",
    "from random import randrange\n",
    "from random import random\n",
    "import matplotlib.pyplot as plt\n",
    "import csv\n",
    "import copy\n",
    "import pandas as pd\n",
    "from collections import Counter\n",
    "from sklearn.neighbors import KNeighborsClassifier\n",
    "\n",
    "\n",
    "class Node:\n",
    "    def __init__(self,name):\n",
    "        self.name = name\n",
    "        self.in_node = []\n",
    "        self.out_node = []\n",
    "        self.neighbour = []\n",
    "        self.prob = {}\n",
    "        self.sum = {}\n",
    "    def given(self):\n",
    "        in_node_names = [i.name for i in self.in_node]\n",
    "        return in_node_names\n",
    "    def outnodes(self):\n",
    "        in_node_names = [i.name for i in self.out_node]\n",
    "        return in_node_names\n",
    "def add_edge(node1,node2):\n",
    "    node1.out_node.append(node2)\n",
    "    node2.in_node.append(node1)\n",
    "    node1.neighbour.append(node2)\n",
    "    node2.neighbour.append(node1)\n",
    "\n",
    "def remove_edge(node1,node2):\n",
    "    node1.out_node.remove(node2)\n",
    "    node2.in_node.remove(node1)\n",
    "    node1.neighbour.remove(node2)\n",
    "    node2.neighbour.remove(node1)\n",
    "\n",
    "def remove_node(node):\n",
    "    for i in node.in_node:\n",
    "        i.out_node.remove(node)\n",
    "    for i in node.out_node:\n",
    "        i.in_node.remove(node)\n",
    "    return\n",
    "\n",
    "\n",
    "def generate_dag():\n",
    "    G = {}\n",
    "    G['Age'] = Node('Age')\n",
    "    G['Location'] = Node('Location')\n",
    "    G['BreastDensity']= Node('BreastDensity')\n",
    "    G['Size'] = Node('Size')\n",
    "    G['LymphNodes'] = Node('LymphNodes')\n",
    "    G['Metastasis']= Node('Metastasis')\n",
    "    G['BC'] = Node('BC')\n",
    "    G['Mass'] = Node('Mass')\n",
    "    G['Shape'] = Node('Shape')\n",
    "    G['MC'] = Node('MC')\n",
    "    G['AD'] = Node('AD')\n",
    "    G['Margin'] = Node('Margin')\n",
    "    G['SkinRetract'] = Node('SkinRetract')\n",
    "    G['FibrTissueDev'] = Node('FibrTissueDev')\n",
    "    G['NippleDischarge']= Node('NippleDischarge')\n",
    "    G['Spiculation']= Node('Spiculation')\n",
    "\n",
    "    add_edge(G['Age'],G['BC'])\n",
    "    add_edge(G['Location'],G['BC'])\n",
    "    add_edge(G['BreastDensity'],G['Mass'])\n",
    "    add_edge(G['BC'],G['Mass'])\n",
    "    add_edge(G['BC'],G['Metastasis'])\n",
    "    add_edge(G['BC'],G['MC'])\n",
    "    add_edge(G['BC'],G['SkinRetract'])\n",
    "    add_edge(G['BC'],G['NippleDischarge'])\n",
    "    add_edge(G['BC'],G['AD'])\n",
    "    add_edge(G['Mass'],G['Size'])\n",
    "    add_edge(G['Mass'],G['Shape'])\n",
    "    add_edge(G['Mass'],G['Margin'])\n",
    "    add_edge(G['AD'],G['FibrTissueDev'])\n",
    "    add_edge(G['FibrTissueDev'],G['SkinRetract'])\n",
    "    add_edge(G['FibrTissueDev'],G['Spiculation'])\n",
    "    add_edge(G['FibrTissueDev'],G['NippleDischarge'])\n",
    "    add_edge(G['Spiculation'],G['Margin'])\n",
    "    add_edge(G['Metastasis'],G['LymphNodes'])\n",
    "    return G\n",
    "\n",
    "def topological_sort(G,root):\n",
    "    visited = []\n",
    "    stack = list(root)\n",
    "    while stack:\n",
    "        node = stack.pop()\n",
    "        visited.append(node)\n",
    "        while G[node].out_node:\n",
    "            tempnode = G[node].out_node[0]\n",
    "            remove_edge(G[node],tempnode)\n",
    "            if len(tempnode.in_node) == 0:\n",
    "                stack.append(tempnode.name)\n",
    "    return visited\n",
    "\n",
    "def sampling(G,file):\n",
    "    data = pd.read_csv(file)\n",
    "    roots = [g for g in G if len(G[g].out_node)>0 and len(G[g].in_node)==0]\n",
    "    order = topological_sort(copy.deepcopy(G),roots)\n",
    "\n",
    "    for i in range(data.shape[0]):\n",
    "        for j in data:\n",
    "            if len(G[j].in_node) == 0:\n",
    "                if data[j][i] not in G[j].prob:\n",
    "                    G[j].prob[data[j][i]]=0\n",
    "                G[j].prob[data[j][i]]+=1\n",
    "            else:\n",
    "                tempkey = []\n",
    "                for k in G[j].given():\n",
    "                    tempkey.append(data[k][i]) \n",
    "                if \",\".join(tempkey) not in G[j].prob:\n",
    "                    G[j].prob[\",\".join(tempkey)] = {}\n",
    "                if data[j][i] not in G[j].prob[\",\".join(tempkey)]:\n",
    "                    G[j].prob[\",\".join(tempkey)][data[j][i]]=0\n",
    "                G[j].prob[\",\".join(tempkey)][data[j][i]]+=1\n",
    "    for i in G:\n",
    "        if i in roots:\n",
    "            temp = sum(G[i].prob.values())\n",
    "            G[i].sum[\"sum\"] = temp\n",
    "            for j in G[i].prob:\n",
    "                G[i].prob[j] = float(G[i].prob[j])/temp\n",
    "        else:\n",
    "            for j in G[i].prob:\n",
    "                temp = sum(G[i].prob[j].values())\n",
    "                G[i].sum[j] = temp\n",
    "                for k in G[i].prob[j]:\n",
    "                    G[i].prob[j][k] = float(G[i].prob[j][k])/temp\n",
    "\n",
    "    sampledata =[]\n",
    "\n",
    "    for i in range(1000):\n",
    "        tempdata = {}\n",
    "        for j in order:\n",
    "            temp = random()\n",
    "            if j in roots:\n",
    "                for k in G[j].prob:\n",
    "                    temp -= G[j].prob[k]\n",
    "                    if temp <=0:\n",
    "                        tempdata[j] = k\n",
    "                        break\n",
    "            else:\n",
    "                tempgiven = []\n",
    "                for g in G[j].given():\n",
    "                    tempgiven.append(tempdata[g])\n",
    "                for k in G[j].prob[\",\".join(tempgiven)]:\n",
    "                    temp -= G[j].prob[\",\".join(tempgiven)][k]\n",
    "                    if temp <=0:\n",
    "                        tempdata[j] = k\n",
    "                        break\n",
    "        sampledata.append(tempdata)\n",
    "\n",
    "    return G, order, sampledata"
   ]
  },
  {
   "cell_type": "markdown",
   "metadata": {},
   "source": [
    "Basically the same as the task 3 codes"
   ]
  },
  {
   "cell_type": "code",
   "execution_count": null,
   "metadata": {},
   "outputs": [],
   "source": [
    "def predict(G,order,sampledata):\n",
    "    final_pred = 0\n",
    "    bc = \"\"\n",
    "    for i in ['No','Invasive','Insitu']:\n",
    "        pred = 1\n",
    "        for g in order:\n",
    "            tempgiven = []\n",
    "            tempattr = sampledata[g]\n",
    "            if g == \"BC\":\n",
    "                tempattr = i\n",
    "            for j in G[g].given():\n",
    "                if j == \"BC\":\n",
    "                    tempgiven.append(i)\n",
    "                else:\n",
    "                    tempgiven.append(sampledata[j])\n",
    "            if tempgiven: \n",
    "                if tempattr not in G[g].prob[\",\".join(tempgiven)]:\n",
    "                    pred = pred * 1/(G[g].sum[\",\".join(tempgiven)]+1+len(G[g].prob[\",\".join(tempgiven)]))\n",
    "                else:\n",
    "                    pred = pred*G[g].prob[\",\".join(tempgiven)][tempattr]\n",
    "            else:\n",
    "                pred = pred* G[g].prob[tempattr]\n",
    "        if final_pred< pred:\n",
    "            final_pred = pred\n",
    "            bc = i\n",
    "    return bc"
   ]
  },
  {
   "cell_type": "markdown",
   "metadata": {},
   "source": [
    "Create prediction by finding the maximum joint distribution given the outcomes."
   ]
  },
  {
   "cell_type": "code",
   "execution_count": null,
   "metadata": {},
   "outputs": [],
   "source": [
    "data = pd.read_csv(\"bc 2.csv\")\n",
    "for i in data:\n",
    "    data[i] = data[i].astype('category')\n",
    "cat_columns = data.select_dtypes(['category']).columns\n",
    "data[cat_columns] = data[cat_columns].apply(lambda x: x.cat.codes)\n",
    "target = data['BC']\n",
    "del data['BC']\n",
    "clf=KNeighborsClassifier(n_neighbors = 100)\n",
    "clf.fit(data,target)\n",
    "pred = clf.predict(data)\n",
    "correct = 0\n",
    "for i in range(len(pred)):\n",
    "    if pred[i] == target[i]:\n",
    "        correct+=1\n",
    "print(float(correct)/len(a))"
   ]
  },
  {
   "cell_type": "markdown",
   "metadata": {},
   "source": [
    "K nearest neighbour implementations. Required to change the data from string to category in order to change it into nunmbers"
   ]
  }
 ],
 "metadata": {
  "kernelspec": {
   "display_name": "Python 3",
   "language": "python",
   "name": "python3"
  },
  "language_info": {
   "codemirror_mode": {
    "name": "ipython",
    "version": 3
   },
   "file_extension": ".py",
   "mimetype": "text/x-python",
   "name": "python",
   "nbconvert_exporter": "python",
   "pygments_lexer": "ipython3",
   "version": "3.6.5"
  }
 },
 "nbformat": 4,
 "nbformat_minor": 2
}
